{
 "cells": [
  {
   "cell_type": "raw",
   "id": "e4a01f15",
   "metadata": {},
   "source": [
    "Q1. What is the meaning of multiple inheritance?\n",
    "ANS- When a class is derived from more than one base class it is called multiple Inheritance. The derived class inherits all the features of the base case"
   ]
  },
  {
   "cell_type": "raw",
   "id": "3fa12737",
   "metadata": {},
   "source": [
    "Q2. What is the concept of delegation?\n",
    "ANS- the delegation pattern is an object-oriented design pattern that allows object composition to achieve the same code reuse as inheritance.” If you read that sentence four or five times you might get it but let me try to make it simpler.Let's say you have an object x and want to change the behaviour of just one of its methods."
   ]
  },
  {
   "cell_type": "raw",
   "id": "c86c556f",
   "metadata": {},
   "source": [
    "Q3. What is the concept of composition?\n",
    "ANS- Composition is a concept that models a has a relationship. It enables creating complex types by combining objects of other types. This means that a class Composite can contain an object of another class Component . This relationship means that a Composite has a Component "
   ]
  },
  {
   "cell_type": "raw",
   "id": "8c33366a",
   "metadata": {},
   "source": [
    "Q4. What are bound methods and how do we use them?\n",
    "ans- a bound method is the one which is dependent on the instance of the class as the first argument. It passes the instance as the first argument which is used to access the variables and functions. In Python 3 and newer versions of python, all functions in the class are by default bound methods.The methods inside the classes would take at least one argument. To make them zero-argument methods, ‘decorators‘ has to be used. Different instances of a class have different values associated with them."
   ]
  },
  {
   "cell_type": "raw",
   "id": "0b33c905",
   "metadata": {},
   "source": [
    "Q5. What is the purpose of pseudoprivate attributes?\n",
    "ans- this is sometimes misleadingly called private attributes really, it's just a way to localize a name to the class that created it, and does not prevent access by code outside the class. That is, this feature is mostly intended to avoid namespace collisions in instances, not to restrict access to names in general."
   ]
  }
 ],
 "metadata": {
  "kernelspec": {
   "display_name": "Python 3 (ipykernel)",
   "language": "python",
   "name": "python3"
  },
  "language_info": {
   "codemirror_mode": {
    "name": "ipython",
    "version": 3
   },
   "file_extension": ".py",
   "mimetype": "text/x-python",
   "name": "python",
   "nbconvert_exporter": "python",
   "pygments_lexer": "ipython3",
   "version": "3.9.7"
  }
 },
 "nbformat": 4,
 "nbformat_minor": 5
}
